{
 "cells": [
  {
   "cell_type": "code",
   "execution_count": 1,
   "id": "f6750c7c",
   "metadata": {},
   "outputs": [
    {
     "ename": "ModuleNotFoundError",
     "evalue": "No module named 'SimpleITK'",
     "output_type": "error",
     "traceback": [
      "\u001b[0;31m---------------------------------------------------------------------------\u001b[0m",
      "\u001b[0;31mModuleNotFoundError\u001b[0m                       Traceback (most recent call last)",
      "Cell \u001b[0;32mIn[1], line 2\u001b[0m\n\u001b[1;32m      1\u001b[0m \u001b[39mimport\u001b[39;00m \u001b[39mos\u001b[39;00m\n\u001b[0;32m----> 2\u001b[0m \u001b[39mimport\u001b[39;00m \u001b[39mSimpleITK\u001b[39;00m \u001b[39mas\u001b[39;00m \u001b[39msitk\u001b[39;00m\n\u001b[1;32m      3\u001b[0m \u001b[39mimport\u001b[39;00m \u001b[39mcv2\u001b[39;00m\n",
      "\u001b[0;31mModuleNotFoundError\u001b[0m: No module named 'SimpleITK'"
     ]
    }
   ],
   "source": [
    "import os\n",
    "import SimpleITK as sitk\n",
    "import cv2\n"
   ]
  },
  {
   "cell_type": "code",
   "execution_count": null,
   "id": "e82bd341",
   "metadata": {},
   "outputs": [
    {
     "name": "stdout",
     "output_type": "stream",
     "text": [
      "patient0008_2CH_ED_CAMUS_EStoED_A2C.png\n"
     ]
    },
    {
     "ename": "AttributeError",
     "evalue": "module 'SimpleITK' has no attribute 'ElastixImageFilter'",
     "output_type": "error",
     "traceback": [
      "\u001b[1;31m---------------------------------------------------------------------------\u001b[0m",
      "\u001b[1;31mAttributeError\u001b[0m                            Traceback (most recent call last)",
      "\u001b[1;32m~\\AppData\\Local\\Temp\\ipykernel_22508\\1733152392.py\u001b[0m in \u001b[0;36m<module>\u001b[1;34m\u001b[0m\n\u001b[0;32m     70\u001b[0m \u001b[1;33m\u001b[0m\u001b[0m\n\u001b[0;32m     71\u001b[0m \u001b[1;31m#     break\u001b[0m\u001b[1;33m\u001b[0m\u001b[1;33m\u001b[0m\u001b[1;33m\u001b[0m\u001b[0m\n\u001b[1;32m---> 72\u001b[1;33m     \u001b[0mwarp_label\u001b[0m\u001b[1;33m(\u001b[0m\u001b[0mmoving_label_path\u001b[0m\u001b[1;33m,\u001b[0m \u001b[0mmoving_img_path\u001b[0m\u001b[1;33m,\u001b[0m \u001b[0mfixed_img_path\u001b[0m\u001b[1;33m,\u001b[0m \u001b[0mfp\u001b[0m\u001b[1;33m)\u001b[0m\u001b[1;33m\u001b[0m\u001b[1;33m\u001b[0m\u001b[0m\n\u001b[0m\u001b[0;32m     73\u001b[0m \u001b[1;33m\u001b[0m\u001b[0m\n\u001b[0;32m     74\u001b[0m     \u001b[1;32mbreak\u001b[0m\u001b[1;33m\u001b[0m\u001b[1;33m\u001b[0m\u001b[0m\n",
      "\u001b[1;32m~\\AppData\\Local\\Temp\\ipykernel_22508\\1733152392.py\u001b[0m in \u001b[0;36mwarp_label\u001b[1;34m(moving_label_path, moving_img_path, fixed_img_path, fp)\u001b[0m\n\u001b[0;32m      7\u001b[0m     \u001b[0mfixedImage\u001b[0m \u001b[1;33m=\u001b[0m \u001b[0msitk\u001b[0m\u001b[1;33m.\u001b[0m\u001b[0mReadImage\u001b[0m\u001b[1;33m(\u001b[0m\u001b[0mfixed_img_path\u001b[0m\u001b[1;33m)\u001b[0m\u001b[1;33m\u001b[0m\u001b[1;33m\u001b[0m\u001b[0m\n\u001b[0;32m      8\u001b[0m     \u001b[0mmovingImage\u001b[0m \u001b[1;33m=\u001b[0m \u001b[0msitk\u001b[0m\u001b[1;33m.\u001b[0m\u001b[0mReadImage\u001b[0m\u001b[1;33m(\u001b[0m\u001b[0mmoving_img_path\u001b[0m\u001b[1;33m)\u001b[0m\u001b[1;33m\u001b[0m\u001b[1;33m\u001b[0m\u001b[0m\n\u001b[1;32m----> 9\u001b[1;33m     \u001b[0melastixImageFilter\u001b[0m \u001b[1;33m=\u001b[0m \u001b[0msitk\u001b[0m\u001b[1;33m.\u001b[0m\u001b[0mElastixImageFilter\u001b[0m\u001b[1;33m(\u001b[0m\u001b[1;33m)\u001b[0m\u001b[1;33m\u001b[0m\u001b[1;33m\u001b[0m\u001b[0m\n\u001b[0m\u001b[0;32m     10\u001b[0m     \u001b[0melastixImageFilter\u001b[0m\u001b[1;33m.\u001b[0m\u001b[0mSetFixedImage\u001b[0m\u001b[1;33m(\u001b[0m\u001b[0mfixedImage\u001b[0m\u001b[1;33m)\u001b[0m\u001b[1;33m\u001b[0m\u001b[1;33m\u001b[0m\u001b[0m\n\u001b[0;32m     11\u001b[0m     \u001b[0melastixImageFilter\u001b[0m\u001b[1;33m.\u001b[0m\u001b[0mSetMovingImage\u001b[0m\u001b[1;33m(\u001b[0m\u001b[0mmovingImage\u001b[0m\u001b[1;33m)\u001b[0m\u001b[1;33m\u001b[0m\u001b[1;33m\u001b[0m\u001b[0m\n",
      "\u001b[1;31mAttributeError\u001b[0m: module 'SimpleITK' has no attribute 'ElastixImageFilter'"
     ]
    }
   ],
   "source": [
    "def warp_label(moving_label_path, moving_img_path, fixed_img_path, fp):\n",
    "\n",
    "    # gets the deformation field that warps the moving intensity image to\n",
    "    # the fixed intensity image. The two images are usually the ED and ES images \n",
    "    # in a cardiac cycle. \n",
    "\n",
    "    fixedImage = sitk.ReadImage(fixed_img_path)\n",
    "    movingImage = sitk.ReadImage(moving_img_path)\n",
    "    elastixImageFilter = sitk.ElastixImageFilter()\n",
    "    elastixImageFilter.SetFixedImage(fixedImage)\n",
    "    elastixImageFilter.SetMovingImage(movingImage)\n",
    "    # parameterMapVector = sitk.VectorOfParameterMap()\n",
    "    # parameterMapVector.append(sitk.GetDefaultParameterMap(\"affine\"))\n",
    "    # parameterMapVector.append(sitk.GetDefaultParameterMap(\"bspline\"))\n",
    "    # elastixImageFilter.SetParameterMap(parameterMapVector)\n",
    "    # elastixImageFilter.AddParameter( \"Metric\", \"CorrespondingPointsEuclideanDistanceMetric\" )\n",
    "    parameterMapVector = sitk.VectorOfParameterMap()\n",
    "    EulerTransform=sitk.GetDefaultParameterMap(\"rigid\")\n",
    "    EulerTransform[\"AutomaticScalesEstimation\"]=( \"true\", )\n",
    "    EulerTransform[\"AutomaticTransformInitialization\"] = ( \"true\", ) \n",
    "    affine=sitk.GetDefaultParameterMap(\"affine\")\n",
    "    affine[\"AutomaticScalesEstimation\"]=( \"true\", )\n",
    "    affine[\"AutomaticTransformInitialization\"] = ( \"true\", )\n",
    "    bspline=sitk.GetDefaultParameterMap(\"bspline\")\n",
    "    bspline[\"AutomaticScalesEstimation\"]=( \"true\", )\n",
    "    bspline[\"AutomaticTransformInitialization\"] = ( \"true\", ) \n",
    "    bspline['Metric0Weight']=(str(1),)\n",
    "    spacing1=(747, 616)             # x and y dim of the fixed image\n",
    "    spacing2=(747, 616)             # x and y dim of the moving image\n",
    "    bspline['FinalGridSpacingInPhysicalUnits']=(str(max(spacing1)*6.),)\n",
    "    fixedImage.SetSpacing(spacing1)\n",
    "    movingImage.SetSpacing(spacing2)\n",
    "    # bspline[\"Metric\"]=(*bspline[\"Metric\"],\"DisplacementMagnitudePenalty\")\n",
    "    bspline[\"Metric\"]=(\"AdvancedMeanSquares\",bspline[\"Metric\"][1])\n",
    "    # bspline[\"Metric\"] = (\"TransformBendingEnergyPenalty\", bspline[\"Metric\"][1])\n",
    "    # bspline[\"Metric\"]=(\"AdvancedMeanSquares\",bspline[\"Metric\"][1])\n",
    "    parameterMapVector.append(EulerTransform)\n",
    "    parameterMapVector.append(bspline)\n",
    "    elastixImageFilter.Execute()\n",
    "\n",
    "    # resultImage = elastixImageFilter.GetResultImage()\n",
    "    \n",
    "    # The following steps warps the segmentation label corresponding to \n",
    "    # the moving image using the extracted deformation field. \n",
    "    transformParameterMap = elastixImageFilter.GetTransformParameterMap()\n",
    "    transformixImageFilter = sitk.TransformixImageFilter()\n",
    "    transformixImageFilter.SetTransformParameterMap(transformParameterMap)\n",
    "    transformixImageFilter.SetMovingImage(sitk.ReadImage(moving_label_path)*30)\n",
    "    transformixImageFilter.Execute()\n",
    "    # sitk.WriteImage(transformixImageFilter.GetResultImage(), 'warped_'+ moving_label_path)\n",
    "\n",
    "    sitk.WriteImage(sitk.Cast(sitk.RescaleIntensity(transformixImageFilter.GetResultImage()), sitk.sitkUInt8), f'warped/{fp}')\n",
    "\n",
    "moving_dir = 'D:\\\\ICL\\\\Results\\\\CAMUS_EStoED_A2C\\\\ELASTIX\\\\val\\\\moving_img'\n",
    "mask_dir = os.listdir(moving_dir)\n",
    "\n",
    "for fp in mask_dir:\n",
    "    rpos = fp.rfind('_', -24, -22)\n",
    "    fixed_fp = fp[:rpos] + '_ED' + fp[rpos+3:]\n",
    "    print(fixed_fp)\n",
    "    \n",
    "    fixed_img_path = f'val/fixed_img/{fixed_fp}'\n",
    "    moving_img_path = f'val/moving_img/{fp}'\n",
    "    moving_label_path = f'val/moving_msk/{fp}'\n",
    "    \n",
    "#     print(fixed_img_path)\n",
    "#     print(moving_img_path)\n",
    "    \n",
    "    logo = sitk.ReadImage(fixed_img_path)\n",
    "    \n",
    "#     print(logo)\n",
    "#     break\n",
    "\n",
    "    warp_label(moving_label_path, moving_img_path, fixed_img_path, fp)\n",
    "    \n",
    "    break\n",
    "\n",
    "# fixed_img_path = '/home/haobo/Desktop/val/fixed_img/patient0068_2CH_ES_CAMUS_EDtoES_A2C.png'\n",
    "# moving_img_path = '/home/haobo/Desktop/val/moving_img/patient0068_2CH_ED_CAMUS_EDtoES_A2C.png'\n",
    "# moving_label_path = '/home/haobo/Desktop/val/moving_msk/patient0068_2CH_ED_CAMUS_EDtoES_A2C.png'\n",
    "# fp = 'patient0068_2CH_ED_CAMUS_EDtoES_A2C.png'\n",
    "# warp_label(moving_label_path, moving_img_path, fixed_img_path, fp)"
   ]
  },
  {
   "cell_type": "code",
   "execution_count": null,
   "id": "fd2fa3e1",
   "metadata": {},
   "outputs": [],
   "source": [
    "patient0008_2CH_ES_CAMUS_EStoED_A2C"
   ]
  }
 ],
 "metadata": {
  "kernelspec": {
   "display_name": "phd",
   "language": "python",
   "name": "python3"
  },
  "language_info": {
   "codemirror_mode": {
    "name": "ipython",
    "version": 3
   },
   "file_extension": ".py",
   "mimetype": "text/x-python",
   "name": "python",
   "nbconvert_exporter": "python",
   "pygments_lexer": "ipython3",
   "version": "3.9.15"
  },
  "vscode": {
   "interpreter": {
    "hash": "886930dad8d4457679a0ca572c30287744b0c7f7c87d123d0e54902f7e45ac8e"
   }
  }
 },
 "nbformat": 4,
 "nbformat_minor": 5
}
