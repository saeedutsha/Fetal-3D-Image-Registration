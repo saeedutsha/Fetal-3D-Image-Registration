{
 "cells": [
  {
   "cell_type": "code",
   "execution_count": 4,
   "id": "3ceda9ad",
   "metadata": {},
   "outputs": [],
   "source": [
    "import os\n",
    "import numpy as np\n",
    "import cv2\n",
    "from glob import glob\n",
    "from tqdm import tqdm\n",
    "import imageio\n",
    "import albumentations as A\n",
    "import cv2\n",
    "from path import Path\n",
    "\n",
    "def overlaying(img, gt, alpha):\n",
    "      \n",
    "    img_layer = cv2.merge((img, img, img))\n",
    "    out = img_layer.copy()\n",
    "    \n",
    "    img_layer[gt==2]=(0, 0, 150)\n",
    "    img_layer[gt==1]=(150, 150, 0)\n",
    "    \n",
    "    return cv2.addWeighted(img_layer, alpha, out, 1 - alpha, 0, out)  "
   ]
  },
  {
   "cell_type": "code",
   "execution_count": 5,
   "id": "ee8952b4",
   "metadata": {},
   "outputs": [
    {
     "name": "stdout",
     "output_type": "stream",
     "text": [
      "20766\n"
     ]
    },
    {
     "name": "stderr",
     "output_type": "stream",
     "text": [
      "100%|██████████| 20766/20766 [01:35<00:00, 217.90it/s]\n"
     ]
    }
   ],
   "source": [
    "task = 'train'\n",
    "RootPath = sorted(glob('data_VAE/'+task+'/*.png'))\n",
    "print(len(RootPath))\n",
    "\n",
    "for imgPath in tqdm(RootPath):\n",
    "    \n",
    "    target_img = cv2.imread(imgPath, 0)\n",
    "#     print(np.unique(target_img))\n",
    "    cv2.imwrite('data_VAE/aug_'+ task +'/'+ Path(imgPath).stem +'_org.png', target_img)\n",
    "    \n",
    "#     transform = A.VerticalFlip(p=1.0) \n",
    "#     trans = transform(image = target_img)\n",
    "# #     print(np.unique(trans['image']))\n",
    "#     cv2.imwrite('data_VAE/aug_'+ task +'/'+ Path(imgPath).stem +'_VF.png', trans['image'])\n",
    "    \n",
    "    transform = A.HorizontalFlip(p=1.0) \n",
    "    trans = transform(image = target_img)\n",
    "#     print(np.unique(trans['image']))\n",
    "    cv2.imwrite('data_VAE/aug_'+ task +'/'+ Path(imgPath).stem +'_HF.png', trans['image'])\n",
    "    \n",
    "    transform = A.CenterCrop(int(0.90*target_img.shape[0]), int(0.7*target_img.shape[1]), always_apply=True, p=1.0)\n",
    "    trans = transform(image = target_img)\n",
    "#     print(np.unique(trans['image']))\n",
    "    cv2.imwrite('data_VAE/aug_'+ task +'/'+ Path(imgPath).stem +'_CC.png', trans['image'])\n",
    "    \n",
    "             \n",
    "    # break"
   ]
  },
  {
   "cell_type": "code",
   "execution_count": 6,
   "id": "04755f46",
   "metadata": {},
   "outputs": [
    {
     "name": "stdout",
     "output_type": "stream",
     "text": [
      "466\n"
     ]
    },
    {
     "name": "stderr",
     "output_type": "stream",
     "text": [
      "100%|██████████| 466/466 [00:02<00:00, 204.90it/s]\n"
     ]
    }
   ],
   "source": [
    "task = 'val'\n",
    "RootPath = sorted(glob('data_VAE/'+task+'/*.png'))\n",
    "print(len(RootPath))\n",
    "\n",
    "for imgPath in tqdm(RootPath):\n",
    "    \n",
    "    target_img = cv2.imread(imgPath, 0)\n",
    "#     print(np.unique(target_img))\n",
    "    cv2.imwrite('data_VAE/aug_'+ task +'/'+ Path(imgPath).stem +'_org.png', target_img)\n",
    "    \n",
    "#     transform = A.VerticalFlip(p=1.0) \n",
    "#     trans = transform(image = target_img)\n",
    "# #     print(np.unique(trans['image']))\n",
    "#     cv2.imwrite('data_VAE/aug_'+ task +'/'+ Path(imgPath).stem +'_VF.png', trans['image'])\n",
    "    \n",
    "    transform = A.HorizontalFlip(p=1.0) \n",
    "    trans = transform(image = target_img)\n",
    "#     print(np.unique(trans['image']))\n",
    "    cv2.imwrite('data_VAE/aug_'+ task +'/'+ Path(imgPath).stem +'_HF.png', trans['image'])\n",
    "    \n",
    "    transform = A.CenterCrop(int(0.90*target_img.shape[0]), int(0.7*target_img.shape[1]), always_apply=True, p=1.0)\n",
    "    trans = transform(image = target_img)\n",
    "#     print(np.unique(trans['image']))\n",
    "    cv2.imwrite('data_VAE/aug_'+ task +'/'+ Path(imgPath).stem +'_CC.png', trans['image'])\n",
    "    \n",
    "             \n",
    "    # break"
   ]
  },
  {
   "cell_type": "code",
   "execution_count": null,
   "id": "1a024f36",
   "metadata": {},
   "outputs": [],
   "source": []
  }
 ],
 "metadata": {
  "kernelspec": {
   "display_name": "phd",
   "language": "python",
   "name": "python3"
  },
  "language_info": {
   "codemirror_mode": {
    "name": "ipython",
    "version": 3
   },
   "file_extension": ".py",
   "mimetype": "text/x-python",
   "name": "python",
   "nbconvert_exporter": "python",
   "pygments_lexer": "ipython3",
   "version": "3.9.15"
  },
  "vscode": {
   "interpreter": {
    "hash": "886930dad8d4457679a0ca572c30287744b0c7f7c87d123d0e54902f7e45ac8e"
   }
  }
 },
 "nbformat": 4,
 "nbformat_minor": 5
}
